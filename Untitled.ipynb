{
 "cells": [
  {
   "cell_type": "code",
   "execution_count": 58,
   "id": "e1dea63a",
   "metadata": {},
   "outputs": [
    {
     "name": "stdout",
     "output_type": "stream",
     "text": [
      "     exp(in months)  salary(in thousands)\n",
      "0         18.290293             16.521825\n",
      "1         17.023407             11.666234\n",
      "2         26.343613             23.167255\n",
      "3         19.105834             20.877145\n",
      "4         27.742516             23.166236\n",
      "..              ...                   ...\n",
      "995       22.161741             24.666502\n",
      "996       32.266497             24.160270\n",
      "997       17.039030             19.903797\n",
      "998       25.222124             21.974413\n",
      "999       16.418028             19.634787\n",
      "\n",
      "[1000 rows x 2 columns]\n"
     ]
    }
   ],
   "source": [
    "import numpy as np\n",
    "import pandas as pd\n",
    "import matplotlib.pyplot as plt\n",
    "import math\n",
    "import copy\n",
    "from sklearn.model_selection import train_test_split\n",
    "# import data file\n",
    "# clean the data up to 2 decimal places for both experience and salary columns\n",
    "# test size = 20%\n",
    "# reshape the values using the concept of feature matrix\n",
    "data = pd.read_csv(\"Experience-Salary.csv\") # data is a feature matrix here \n",
    "print(data)"
   ]
  },
  {
   "cell_type": "code",
   "execution_count": 59,
   "id": "6e20487f",
   "metadata": {},
   "outputs": [
    {
     "name": "stdout",
     "output_type": "stream",
     "text": [
      "exp(in months)          0\n",
      "salary(in thousands)    0\n",
      "dtype: int64\n"
     ]
    }
   ],
   "source": [
    "null_values = data.isnull()\n",
    "null_count_per_column = null_values.sum()\n",
    "print(null_count_per_column) # no null values "
   ]
  },
  {
   "cell_type": "code",
   "execution_count": 60,
   "id": "5583a2d8",
   "metadata": {},
   "outputs": [
    {
     "name": "stdout",
     "output_type": "stream",
     "text": [
      "exp(in months)          float64\n",
      "salary(in thousands)    float64\n",
      "dtype: object\n"
     ]
    }
   ],
   "source": [
    "print(data.dtypes) # no null or string values "
   ]
  },
  {
   "cell_type": "code",
   "execution_count": 61,
   "id": "b7239672",
   "metadata": {},
   "outputs": [],
   "source": [
    "df = data.copy()"
   ]
  },
  {
   "cell_type": "code",
   "execution_count": 62,
   "id": "43cdbca4",
   "metadata": {},
   "outputs": [
    {
     "name": "stdout",
     "output_type": "stream",
     "text": [
      "     exp(in months)  salary(in thousands)\n",
      "0             18.29                 16.52\n",
      "1             17.02                 11.67\n",
      "2             26.34                 23.17\n",
      "3             19.11                 20.88\n",
      "4             27.74                 23.17\n",
      "..              ...                   ...\n",
      "995           22.16                 24.67\n",
      "996           32.27                 24.16\n",
      "997           17.04                 19.90\n",
      "998           25.22                 21.97\n",
      "999           16.42                 19.63\n",
      "\n",
      "[1000 rows x 2 columns]\n"
     ]
    }
   ],
   "source": [
    "df = df.round(2)\n",
    "print(df) # cleaned dataset upto 2 decimal places \n",
    "\n",
    "X = df.drop('salary(in thousands)', axis=1)  \n",
    "y = df['salary(in thousands)']  \n",
    "\n",
    "# Split the data into training and testing sets with a 20% test split\n",
    "X_train, X_test, y_train, y_test = train_test_split(X, y, test_size=0.2, random_state=42)\n",
    "X_train = X_train.values # converting to numpy array \n",
    "y_train = y_train.values # converting to numpy array"
   ]
  },
  {
   "cell_type": "code",
   "execution_count": 63,
   "id": "1cc30557",
   "metadata": {},
   "outputs": [],
   "source": [
    "# complete the compute_cost() function below to compute the cost J(w, b)\n",
    "def compute_cost(x, y, w, b): \n",
    "    \"\"\"\n",
    "    Computes the cost function for linear regression.\n",
    "    \n",
    "    Args:\n",
    "        x (ndarray): Shape (m,) Input to the model (Population of cities) \n",
    "        y (ndarray): Shape (m,) Label (Actual profits for the cities)\n",
    "        w, b (scalar): Parameters of the model\n",
    "    \n",
    "    Returns\n",
    "        total_cost (float): The cost of using w,b as the parameters for linear regression\n",
    "               to fit the data points in x and y\n",
    "    \"\"\"\n",
    "    # number of training examples\n",
    "    m = x.shape[0] \n",
    "    \n",
    "    # You need to return this variable correctly\n",
    "    total_cost = 0\n",
    "\n",
    "    ### START CODE HERE ###\n",
    "    cost=0\n",
    "    for i in range(m):\n",
    "        f_wb = w*x[i]+b\n",
    "        cost += (f_wb - y[i])**2\n",
    "    \n",
    "    total_cost = cost/(2*m)\n",
    "    \n",
    "    ### END CODE HERE ### \n",
    "\n",
    "    return total_cost"
   ]
  },
  {
   "cell_type": "code",
   "execution_count": 64,
   "id": "e9b17b30",
   "metadata": {},
   "outputs": [
    {
     "name": "stdout",
     "output_type": "stream",
     "text": [
      "<class 'numpy.ndarray'>\n",
      "[14.40669931]\n"
     ]
    }
   ],
   "source": [
    " # Compute cost with some initial values for parameters w, b\n",
    "# Do not change the values in this code, simply run this block\n",
    "initial_w = 0.9998\n",
    "initial_b = 1\n",
    "cost = compute_cost(X_train, y_train, initial_w, initial_b)\n",
    "print(type(cost))\n",
    "print(cost)\n",
    "\n",
    "# output for cost should be around 14.40"
   ]
  },
  {
   "cell_type": "code",
   "execution_count": 65,
   "id": "524461df",
   "metadata": {},
   "outputs": [],
   "source": [
    "# implement a function called compute_gradient which calculates ∂J(w)/∂w, ∂J(w)/∂b\n",
    "def compute_gradient(x, y, w, b):\n",
    "    \n",
    "    \"\"\"\n",
    "    Computes the gradient for linear regression\n",
    "    Args:\n",
    "    x (ndarray): Shape (m,) Input to the model (Population of cities)\n",
    "    y (ndarray): Shape (m,) Label (Actual profits for the cities)\n",
    "    w, b (scalar): Parameters of the model\n",
    "    Returns:\n",
    "    dj_dw (scalar): The gradient of the cost w.r.t. the parameters w\n",
    "    dj_db (scalar): The gradient of the cost w.r.t. the parameter b\n",
    "    \"\"\"\n",
    "\n",
    "    # Number of training examples\n",
    "    m = x.shape[0]\n",
    "    dj_dw = 0\n",
    "    dj_db = 0\n",
    "\n",
    "    # START CODE HERE\n",
    "    for i in range(m):\n",
    "        f_wb = w*x[i]+b\n",
    "        dj_db += f_wb - y[i]\n",
    "        dj_dw += (f_wb - y[i])*x[i]\n",
    "    dj_dw /= m\n",
    "    dj_db /= m\n",
    "\n",
    "    # END CODE HERE\n",
    "\n",
    "    return dj_dw, dj_db"
   ]
  },
  {
   "cell_type": "code",
   "execution_count": 66,
   "id": "b92f1581",
   "metadata": {},
   "outputs": [
    {
     "name": "stdout",
     "output_type": "stream",
     "text": [
      "Gradient at initial w, b (zeros): [22.08482317] [0.36802405]\n",
      "Gradient at test w, b: [-600.2060557] [-21.2052925]\n"
     ]
    }
   ],
   "source": [
    "initial_w = 0.998\n",
    "initial_b = 1\n",
    "\n",
    "tmp_dj_dw, tmp_dj_db = compute_gradient(X_train, y_train, initial_w, initial_b)\n",
    "print('Gradient at initial w, b (zeros):', tmp_dj_dw, tmp_dj_db)\n",
    "\n",
    "# output should be\n",
    "# Gradient at initial w, b (zeros): [22.08482317] [0.36802405]\n",
    "test_w = 0.2\n",
    "test_b = 0.2\n",
    "tmp_dj_dw, tmp_dj_db = compute_gradient(X_train, y_train, test_w, test_b)\n",
    "\n",
    "print('Gradient at test w, b:', tmp_dj_dw, tmp_dj_db)\n",
    "\n",
    "# output should be\n",
    "# Gradient at test w, b: [-600.2060557] [-21.2052925]"
   ]
  },
  {
   "cell_type": "code",
   "execution_count": 67,
   "id": "86e4605b",
   "metadata": {},
   "outputs": [],
   "source": [
    "# do not change the below function, just run it\n",
    "def gradient_descent(x, y, w_in, b_in, cost_function, gradient_function, alpha, num_iters):\n",
    "    m = len(x)\n",
    "    J_history = []\n",
    "    w_history = []\n",
    "    w = copy.deepcopy(w_in)\n",
    "    b = b_in\n",
    "    for i in range(num_iters): \n",
    "        dj_dw, dj_db = gradient_function(x, y, w, b)\n",
    "        w = w - alpha * dj_dw\n",
    "        b = b - alpha * dj_db\n",
    "    if i < 100000:\n",
    "        cost = cost_function(x, y, w, b)\n",
    "        J_history.append(cost)\n",
    "    if i % math.ceil(num_iters/10) == 0:\n",
    "        w_history.append(w)\n",
    "        print(f\"Iteration {i:4}: Cost {float(J_history[-1]):8.2f}   \")\n",
    "    return w, b, J_history, w_history"
   ]
  },
  {
   "cell_type": "code",
   "execution_count": 68,
   "id": "93a8bbfd",
   "metadata": {},
   "outputs": [
    {
     "name": "stdout",
     "output_type": "stream",
     "text": [
      "w, b found by gradient descent: [0.99787157] [0.15597349]\n"
     ]
    }
   ],
   "source": [
    "# Now let's run the gradient descent algorithm above to learn the parameters for our dataset.\n",
    "# you can alter the values of iterations, alpha to get the minimum cost and minimum values for w and b\n",
    "\n",
    "# initialize fitting parameters. Recall that the shape of w is (n,)\n",
    "initial_w = 0.\n",
    "initial_b = 0.\n",
    "\n",
    "# some gradient descent settings\n",
    "iterations = 2500\n",
    "alpha = 0.0001\n",
    "\n",
    "w, b, _, _ = gradient_descent(X_train, y_train, initial_w, initial_b,\n",
    "compute_cost, compute_gradient, alpha, iterations)\n",
    "print(\"w, b found by gradient descent:\", w, b)\n"
   ]
  },
  {
   "cell_type": "code",
   "execution_count": 69,
   "id": "b1016ece",
   "metadata": {},
   "outputs": [],
   "source": [
    "# execute the code to predict the output values on the given input of numpy arrays\n",
    "# do not alter the code, just execute it\n",
    "m = X_train.shape[0]\n",
    "predicted = np.zeros(m)\n",
    "\n",
    "for i in range(m):\n",
    "    predicted[i] = w * X_train[i] + b"
   ]
  },
  {
   "cell_type": "code",
   "execution_count": 70,
   "id": "f5b52b00",
   "metadata": {},
   "outputs": [
    {
     "data": {
      "text/plain": [
       "Text(0.5, 0, 'exp')"
      ]
     },
     "execution_count": 70,
     "metadata": {},
     "output_type": "execute_result"
    },
    {
     "data": {
      "image/png": "[encoded data removed]",
      "text/plain": [
       "<Figure size 640x480 with 1 Axes>"
      ]
     },
     "metadata": {},
     "output_type": "display_data"
    }
   ],
   "source": [
    "# Plot the linear fit\n",
    "plt.plot(X_train, predicted, c = \"b\") \n",
    "plt.scatter(X_train, y_train, marker='x', c='r') \n",
    "\n",
    "\n",
    "plt.title(\"salary vs. exp\")\n",
    "plt.ylabel('salary')\n",
    "# Set the x-axis label\n",
    "plt.xlabel('exp')"
   ]
  },
  {
   "cell_type": "code",
   "execution_count": 71,
   "id": "90b4217b",
   "metadata": {},
   "outputs": [
    {
     "name": "stdout",
     "output_type": "stream",
     "text": [
      "For exp = 17.0, we predict a salary of rupees17.12\n",
      "For exp = 50.0, we predict a salary of rupees50.05\n"
     ]
    }
   ],
   "source": [
    "predict1 = 17.0 * w + b\n",
    "print('For exp = 17.0, we predict a salary of rupees%.2f' % (predict1))\n",
    "\n",
    "predict2 = 50.0 * w + b\n",
    "print('For exp = 50.0, we predict a salary of rupees%.2f' % (predict2))\n"
   ]
  },
  {
   "cell_type": "code",
   "execution_count": null,
   "id": "a4ccfda7",
   "metadata": {},
   "outputs": [],
   "source": []
  }
 ],
 "metadata": {
  "kernelspec": {
   "display_name": "Python 3 (ipykernel)",
   "language": "python",
   "name": "python3"
  },
  "language_info": {
   "codemirror_mode": {
    "name": "ipython",
    "version": 3
   },
   "file_extension": ".py",
   "mimetype": "text/x-python",
   "name": "python",
   "nbconvert_exporter": "python",
   "pygments_lexer": "ipython3",
   "version": "3.10.9"
  }
 },
 "nbformat": 4,
 "nbformat_minor": 5
}
