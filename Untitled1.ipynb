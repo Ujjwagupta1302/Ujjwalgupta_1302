{
 "cells": [
  {
   "cell_type": "code",
   "execution_count": 3,
   "id": "f8f8caef",
   "metadata": {},
   "outputs": [],
   "source": [
    "\n",
    "from sklearn.model_selection import train_test_split\n",
    "import numpy as np\n",
    "import matplotlib.pyplot as plt\n",
    "import copy\n",
    "import math\n",
    "import pandas as pd\n",
    "%matplotlib inline"
   ]
  },
  {
   "cell_type": "code",
   "execution_count": 4,
   "id": "07b069c5",
   "metadata": {},
   "outputs": [
    {
     "name": "stdout",
     "output_type": "stream",
     "text": [
      "       SquareFeet  Bedrooms  Bathrooms Neighborhood  YearBuilt          Price\n",
      "0            2126         4          1        Rural       1969  215355.283618\n",
      "1            2459         3          2        Rural       1980  195014.221626\n",
      "2            1860         2          1       Suburb       1970  306891.012076\n",
      "3            2294         2          1        Urban       1996  206786.787153\n",
      "4            2130         5          2       Suburb       2001  272436.239065\n",
      "...           ...       ...        ...          ...        ...            ...\n",
      "49995        1282         5          3        Rural       1975  100080.865895\n",
      "49996        2854         2          2       Suburb       1988  374507.656727\n",
      "49997        2979         5          3       Suburb       1962  384110.555590\n",
      "49998        2596         5          2        Rural       1984  380512.685957\n",
      "49999        1572         5          3        Rural       2011  221618.583218\n",
      "\n",
      "[50000 rows x 6 columns]\n"
     ]
    }
   ],
   "source": [
    "data = pd.read_csv(\"housing_price_dataset.csv\") \n",
    "print(data)"
   ]
  },
  {
   "cell_type": "code",
   "execution_count": 5,
   "id": "7b45ab3e",
   "metadata": {},
   "outputs": [
    {
     "name": "stdout",
     "output_type": "stream",
     "text": [
      "SquareFeet      0\n",
      "Bedrooms        0\n",
      "Bathrooms       0\n",
      "Neighborhood    0\n",
      "YearBuilt       0\n",
      "Price           0\n",
      "dtype: int64\n"
     ]
    }
   ],
   "source": [
    "null_values = data.isnull()\n",
    "null_count_per_column = null_values.sum()\n",
    "print(null_count_per_column) # no null values "
   ]
  },
  {
   "cell_type": "code",
   "execution_count": 6,
   "id": "0557dafa",
   "metadata": {},
   "outputs": [
    {
     "name": "stdout",
     "output_type": "stream",
     "text": [
      "SquareFeet        int64\n",
      "Bedrooms          int64\n",
      "Bathrooms         int64\n",
      "Neighborhood     object\n",
      "YearBuilt         int64\n",
      "Price           float64\n",
      "dtype: object\n"
     ]
    }
   ],
   "source": [
    "print(data.dtypes) # no null values"
   ]
  },
  {
   "cell_type": "code",
   "execution_count": 7,
   "id": "a8a1447d",
   "metadata": {},
   "outputs": [],
   "source": [
    "df = data.copy()"
   ]
  },
  {
   "cell_type": "code",
   "execution_count": 8,
   "id": "a779fccc",
   "metadata": {},
   "outputs": [],
   "source": [
    "X = df.drop('Price', axis=1) \n",
    "X = df.drop('Neighborhood', axis=1) \n",
    "y = df['Price']  \n",
    "\n",
    "# Split the data into training and testing sets with a 20% test split\n",
    "x_train, x_test, y_train, y_test = train_test_split(X, y, test_size=0.2, random_state=42)\n",
    "x_train = x_train.values # converting to numpy array \n",
    "y_train = y_train.values # converting to numpy array"
   ]
  },
  {
   "cell_type": "code",
   "execution_count": 9,
   "id": "cb5a4c32",
   "metadata": {},
   "outputs": [
    {
     "name": "stdout",
     "output_type": "stream",
     "text": [
      "The shape of x_train is: (40000, 5)\n",
      "The shape of y_train is:  (40000,)\n",
      "Number of training examples (m): 40000\n"
     ]
    }
   ],
   "source": [
    "print ('The shape of x_train is:', x_train.shape)\n",
    "print ('The shape of y_train is: ', y_train.shape)\n",
    "print ('Number of training examples (m):', len(x_train))"
   ]
  },
  {
   "cell_type": "code",
   "execution_count": 10,
   "id": "511a17d3",
   "metadata": {},
   "outputs": [],
   "source": [
    "def compute_cost(x, y, w, b): \n",
    "    \n",
    "    m = x.shape[0] \n",
    "    \n",
    "    \n",
    "    total_cost = 0\n",
    "\n",
    "    \n",
    "    cost=0\n",
    "    for i in range(m):\n",
    "        f_wb = w*x[i]+b\n",
    "        cost += (f_wb - y[i])**2\n",
    "    \n",
    "    total_cost = cost/(2*m)\n",
    "    \n",
    "    \n",
    "\n",
    "    return total_cost"
   ]
  },
  {
   "cell_type": "code",
   "execution_count": 11,
   "id": "7e1e7175",
   "metadata": {},
   "outputs": [],
   "source": [
    "def compute_gradient(x, y, w, b): \n",
    "    m = x.shape[0]\n",
    "    dj_dw = 0\n",
    "    dj_db = 0\n",
    "    for i in range(m):\n",
    "        f_wb = w * x[i] + b\n",
    "        dj_db += f_wb - y[i]\n",
    "        dj_dw += (f_wb - y[i]) * x[i]\n",
    "    dj_dw /= m\n",
    "    dj_db /= m\n",
    "    return dj_dw, dj_db"
   ]
  },
  {
   "cell_type": "code",
   "execution_count": 12,
   "id": "edf989f1",
   "metadata": {},
   "outputs": [],
   "source": [
    "def gradient_descent(x, y, w_in, b_in, gradient_function, alpha, num_iters): \n",
    "    m = len(x)\n",
    "    w = copy.deepcopy(w_in)  #avoid modifying global w within function\n",
    "    b = b_in\n",
    "    for i in range(num_iters):\n",
    "        dj_dw, dj_db = gradient_function(x, y, w, b)  \n",
    "        w = w - alpha * dj_dw               \n",
    "        b = b - alpha * dj_db               \n",
    "    return w, b"
   ]
  },
  {
   "cell_type": "code",
   "execution_count": 15,
   "id": "dae61bee",
   "metadata": {},
   "outputs": [],
   "source": [
    "initial_w = 0\n",
    "initial_b = 0\n",
    "iterations = 5\n",
    "alpha = 0.01\n",
    "w,b= gradient_descent(x_train ,y_train, initial_w, initial_b, compute_gradient, alpha, iterations)"
   ]
  },
  {
   "cell_type": "code",
   "execution_count": 16,
   "id": "8f3fae82",
   "metadata": {},
   "outputs": [
    {
     "name": "stdout",
     "output_type": "stream",
     "text": [
      "[1.73970780e+25 2.97242469e+04 2.01342112e+04 1.07777668e+25\n",
      " 5.67903148e+43]\n"
     ]
    }
   ],
   "source": [
    "print(w)"
   ]
  },
  {
   "cell_type": "code",
   "execution_count": 17,
   "id": "bf12a42b",
   "metadata": {},
   "outputs": [
    {
     "name": "stdout",
     "output_type": "stream",
     "text": [
      "[8.01372081e+21 8.63694614e+03 1.01748973e+04 5.42794918e+21\n",
      " 2.26572589e+38]\n"
     ]
    }
   ],
   "source": [
    "print(b)"
   ]
  },
  {
   "cell_type": "code",
   "execution_count": null,
   "id": "547ed574",
   "metadata": {},
   "outputs": [],
   "source": []
  }
 ],
 "metadata": {
  "kernelspec": {
   "display_name": "Python 3 (ipykernel)",
   "language": "python",
   "name": "python3"
  },
  "language_info": {
   "codemirror_mode": {
    "name": "ipython",
    "version": 3
   },
   "file_extension": ".py",
   "mimetype": "text/x-python",
   "name": "python",
   "nbconvert_exporter": "python",
   "pygments_lexer": "ipython3",
   "version": "3.10.9"
  }
 },
 "nbformat": 4,
 "nbformat_minor": 5
}
